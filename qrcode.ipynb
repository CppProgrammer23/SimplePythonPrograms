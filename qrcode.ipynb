{
  "nbformat": 4,
  "nbformat_minor": 0,
  "metadata": {
    "colab": {
      "name": "qrcode.ipynb",
      "provenance": [],
      "authorship_tag": "ABX9TyN3uZw8eq5+jN76xZIvpwa9"
    },
    "kernelspec": {
      "name": "python3",
      "display_name": "Python 3"
    }
  },
  "cells": [
    {
      "cell_type": "code",
      "metadata": {
        "colab": {
          "base_uri": "https://localhost:8080/"
        },
        "id": "UYrb24bJdkPl",
        "outputId": "919661cd-d100-4b4d-99fe-95bcc9b9eb3b"
      },
      "source": [
        "!pip install qrcode\r\n",
        "!pip install git+git://github.com/ojii/pymaging.git#egg=pymaging\r\n",
        "!pip install git+git://github.com/ojii/pymaging-png.git#egg=pymaging-png"
      ],
      "execution_count": null,
      "outputs": [
        {
          "output_type": "stream",
          "text": [
            "Requirement already satisfied: qrcode in /usr/local/lib/python3.6/dist-packages (6.1)\n",
            "Requirement already satisfied: six in /usr/local/lib/python3.6/dist-packages (from qrcode) (1.15.0)\n",
            "Requirement already satisfied: pymaging from git+git://github.com/ojii/pymaging.git#egg=pymaging in /usr/local/lib/python3.6/dist-packages (0.1)\n",
            "Collecting pymaging-png\n",
            "  Cloning git://github.com/ojii/pymaging-png.git to /tmp/pip-install-93k8br0n/pymaging-png\n",
            "  Running command git clone -q git://github.com/ojii/pymaging-png.git /tmp/pip-install-93k8br0n/pymaging-png\n",
            "Requirement already satisfied: pymaging in /usr/local/lib/python3.6/dist-packages (from pymaging-png) (0.1)\n",
            "Building wheels for collected packages: pymaging-png\n",
            "  Building wheel for pymaging-png (setup.py) ... \u001b[?25l\u001b[?25hdone\n",
            "  Created wheel for pymaging-png: filename=pymaging_png-0.1-cp36-none-any.whl size=38353 sha256=9099393499df263454e72a0ec38103e63e6aa03aef255078484ecc20b1c78ad2\n",
            "  Stored in directory: /tmp/pip-ephem-wheel-cache-c9kj0t2x/wheels/6b/ed/69/8a3efa65306954d083ee545c36766c3a141a85ce7fe723ac8f\n",
            "Successfully built pymaging-png\n",
            "Installing collected packages: pymaging-png\n",
            "Successfully installed pymaging-png-0.1\n"
          ],
          "name": "stdout"
        }
      ]
    },
    {
      "cell_type": "code",
      "metadata": {
        "id": "7ebEPsqjd3tI"
      },
      "source": [
        "import qrcode\r\n",
        "from qrcode.image.pure import PymagingImage\r\n",
        "import qrcode.image.svg"
      ],
      "execution_count": null,
      "outputs": []
    },
    {
      "cell_type": "code",
      "metadata": {
        "id": "pWH1ZS3Nd51a"
      },
      "source": [
        "#test\r\n",
        "img=qrcode.make('https://www.google.com')#,image_factory=PymagingImage)\r\n",
        "img.save('img.jpeg')"
      ],
      "execution_count": null,
      "outputs": []
    },
    {
      "cell_type": "code",
      "metadata": {
        "id": "jrOy13y-er-f"
      },
      "source": [
        "#controling the design and some other parameters\r\n",
        "mydata=qrcode.QRCode(version=1,border=2,box_size=5)\r\n",
        "mydata.add_data('https://www.qt.io')\r\n",
        "mydata.make(fit=True)\r\n",
        "my_img=mydata.make_image(fill_color='black',back_color='white')\r\n",
        "my_img.save('qt.png')"
      ],
      "execution_count": null,
      "outputs": []
    }
  ]
}