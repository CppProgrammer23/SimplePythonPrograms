import pandas as pd
import numpy as np
from matplotlib import pyplot as plt
import mnist
from keras.models import Sequential #ANN architecture
from keras.layers import Dense #the layer in the ANN
from keras.utils import to_categorical



#importing data
train_img=mnist.train_images() #training data images
train_lb=mnist.train_labels() #training data label
test_img=mnist.test_images() #testing data images
test_lb=mnist.test_labels() #testing data labels

#normalize data
train_img=(train_img/255)-0.5
test_img=(test_img/255)-0.5

#reshape
train_img=train_img.reshape(-1,784)
test_img=test_img.reshape(-1,784)

#build the model; 3layers : 2layers for input (64 neurons) and 1 layer for the output (10 neurons)
model=Sequential()
model.add(Dense(64,activation='relu',input_dim=784))
model.add(Dense(64,activation='relu'))
model.add(Dense(10,activation='softmax'))

#compile the model
model.compile('adam','categorical_crossentropy',['accuracy'])

#train the model
model.fit(train_img,to_categorical(train_lb),32,2) #it converts it to 10 vector length [0,0,0,0,0,0,0,0,0,0]

#evaluate the model
model.evaluate(test_img,to_categorical(test_lb))

model.save_weights('digit classifier.h5')

#make prediction
pred=model.predict(test_img[9970:9980])
print(test_img.shape)
print(np.argmax(pred,axis=1))

for i in range (9970,9980):
    img=test_img[i]
    img=np.array(img,dtype='float')
    pxl=img.reshape(28,28)
    plt.imshow(pxl)
    plt.show()
