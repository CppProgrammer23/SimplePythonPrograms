import random
class Person:
  def __init__(self,name,Id,tel):
    self.name=name
    self.Id=Id
    self.tel=tel
  def show(self):
    pass

#################################
def nbrRoom(self):
  return int(random.random()*10)+1
Professor=type('Prof',(Person,),{'nbrRoom':nbrRoom,'show':show})
Student=type('Student',(Person,),{'x':[14,18,17],'ave':ave,'show':show,'success':success})
def ave(self):
  sum=0
  for i in self.x:
    sum+=i
  return sum/len(self.x)
def show(self,obj):
  print('The person is: ',self.name,' its id is: ',self.Id,' and its tel is: ' 
    ,self.tel)
  if isinstance(obj,Professor):
    print('He\'s a professor')
    print('the room where he\'s actually is: ',nbrRoom(obj))
  else:
    print('He\'s a student')
    print('the average is: ',ave(self))
def success(self):
  return ave(self)>=10.0

s=Student('Paul',145,1821547)
s.show(s)
if s.success()==True:
  print('The Student pass')
else:
  print('The Student Fail')
###################################


p=Professor('Sean',142,1415437)
p.show(p)
