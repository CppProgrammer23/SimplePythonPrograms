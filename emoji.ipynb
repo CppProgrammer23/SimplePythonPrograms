{
  "nbformat": 4,
  "nbformat_minor": 0,
  "metadata": {
    "colab": {
      "name": "emoji.ipynb",
      "provenance": [],
      "authorship_tag": "ABX9TyOHGVZiVnoyCXBuE69OTRay"
    },
    "kernelspec": {
      "name": "python3",
      "display_name": "Python 3"
    },
    "language_info": {
      "name": "python"
    }
  },
  "cells": [
    {
      "cell_type": "code",
      "metadata": {
        "colab": {
          "base_uri": "https://localhost:8080/"
        },
        "id": "1bj9Patun76B",
        "outputId": "d00b33ee-266c-48d3-d839-6a7771e31b50"
      },
      "source": [
        "!pip install emoji\n",
        "!pip install emojis"
      ],
      "execution_count": 15,
      "outputs": [
        {
          "output_type": "stream",
          "text": [
            "Requirement already satisfied: emoji in /usr/local/lib/python3.7/dist-packages (1.2.0)\n",
            "Collecting emojis\n",
            "  Downloading https://files.pythonhosted.org/packages/2e/94/61025e53488acd95b49862ec854e05b036f92fe9d0e512ca551a5a8b03d6/emojis-0.6.0-py3-none-any.whl\n",
            "Installing collected packages: emojis\n",
            "Successfully installed emojis-0.6.0\n"
          ],
          "name": "stdout"
        }
      ]
    },
    {
      "cell_type": "code",
      "metadata": {
        "id": "-mqC8AWHodws"
      },
      "source": [
        "import emoji\n",
        "import emojis"
      ],
      "execution_count": 16,
      "outputs": []
    },
    {
      "cell_type": "code",
      "metadata": {
        "colab": {
          "base_uri": "https://localhost:8080/"
        },
        "id": "NlDRqZ6logku",
        "outputId": "48297728-b62d-4b85-dbec-5e85a6d6c3f5"
      },
      "source": [
        "print(emoji.emojize(':thumbs_up:'))"
      ],
      "execution_count": 5,
      "outputs": [
        {
          "output_type": "stream",
          "text": [
            "👍\n"
          ],
          "name": "stdout"
        }
      ]
    },
    {
      "cell_type": "code",
      "metadata": {
        "colab": {
          "base_uri": "https://localhost:8080/"
        },
        "id": "VwlYA3O3owIm",
        "outputId": "60a8c39e-e2cd-4e49-d7af-f55c3e2fda07"
      },
      "source": [
        "print(emoji.emojize(':thumbs_down:'))"
      ],
      "execution_count": 6,
      "outputs": [
        {
          "output_type": "stream",
          "text": [
            "👎\n"
          ],
          "name": "stdout"
        }
      ]
    },
    {
      "cell_type": "code",
      "metadata": {
        "colab": {
          "base_uri": "https://localhost:8080/"
        },
        "id": "LhQfg4SAo01M",
        "outputId": "7a22bdc5-4c35-42e3-b981-21d8eebe1fe3"
      },
      "source": [
        "print(emoji.emojize(':red_heart:'))"
      ],
      "execution_count": 7,
      "outputs": [
        {
          "output_type": "stream",
          "text": [
            "❤\n"
          ],
          "name": "stdout"
        }
      ]
    },
    {
      "cell_type": "code",
      "metadata": {
        "id": "LBauoxtCpSJo"
      },
      "source": [
        "#this won't work because only english, spanish, portuguese and italien are supported\n",
        "#print(emoji.emojize(':daumen_hoch:',language='de'))"
      ],
      "execution_count": 9,
      "outputs": []
    },
    {
      "cell_type": "code",
      "metadata": {
        "colab": {
          "base_uri": "https://localhost:8080/"
        },
        "id": "mER5ttMsqE1L",
        "outputId": "b4ef546d-fd57-4f74-84c2-59363b7c535e"
      },
      "source": [
        "print(emojis.encode(':smile:'))"
      ],
      "execution_count": 17,
      "outputs": [
        {
          "output_type": "stream",
          "text": [
            "😄\n"
          ],
          "name": "stdout"
        }
      ]
    },
    {
      "cell_type": "code",
      "metadata": {
        "colab": {
          "base_uri": "https://localhost:8080/"
        },
        "id": "nLRZVg7cqqxe",
        "outputId": "22bd6532-28c7-41c3-b2f8-bf1de6b23036"
      },
      "source": [
        "print(emojis.encode(':knife:'))"
      ],
      "execution_count": 18,
      "outputs": [
        {
          "output_type": "stream",
          "text": [
            "🔪\n"
          ],
          "name": "stdout"
        }
      ]
    },
    {
      "cell_type": "code",
      "metadata": {
        "colab": {
          "base_uri": "https://localhost:8080/"
        },
        "id": "pfqwfNEFqvXr",
        "outputId": "a1a7fd78-405f-48ef-89f5-474c5b3ccf61"
      },
      "source": [
        "print(emojis.encode(':sad:'))"
      ],
      "execution_count": 19,
      "outputs": [
        {
          "output_type": "stream",
          "text": [
            ":sad:\n"
          ],
          "name": "stdout"
        }
      ]
    }
  ]
}