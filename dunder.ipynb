#in this file I'm gonna implement a new list class and a real stack class 
#from scratch
#and show the how the keyword 'with' works

class List:
  def __init__(self):
    self.myList=list()
    self.n=0
  def __iter__(self):
    return self
  def __next__(self):
    if self.n<len(self.myList):
      res=self.myList[self.n]
      self.n+=1
      return res
    else:
      self.n=0
      raise StopIteration
  def __add__(self,x):
    if type(x) is List:
      for i in x:
        self.myList.append(i)
      return
    elif type(x) is not int:
      raise Exception('Error type')
    self.myList.append(x)
  def __substr__(self):
    myList.pop()
  def __repr__(self):
    return ''.join(str(self.myList))
  def __getitem__(self,key):
    if key>=len(self.myList):
      raise TypeError('Out of index')
    return self.myList[key]
  def __setitem__(self,k,v):
    if k>=len(self.myList):
      raise TypeError('Out of index')
    self.myList[k]=v
  def __len__(self):
    return len(self.myList)
  def __le__(self,obj):
    if not isinstance(obj,List):
      raise Exception('Not compatible')
    return len(self.myList)<=len(obj)
  def __ge__(self,obj):
    if not isinstance(obj,List):
      raise Exception('Not compatible')
    return len(self.myList)>=len(obj)
  def __gt__(self,obj):
    if not isinstance(obj,List):
      raise Exception('Not compatible')
    return len(self.myList)>len(obj)
  def __lt__(self,obj):
    if not isinstance(obj,List):
      raise Exception('Not compatible')
    return len(self.myList)<len(obj)
  

l=List()
l+5
l+9
l[0]=6
l+2
l1=List()
l1+4
l1+2
l1+l
print(l1)
print(l1>l)
print(l)
for i in l:
  print(i)
#you can continue 

############ STACK ################
class Stack:
  def __init__(self):
    self.myList=list()
    self.n=0
  def push(self,value):
    self.myList.append(value)
  def pop(self):
    if len(self.myList)==0:
      raise Exception('Cannot delete element from the stack')
    else:
      del self.myList[-1]
    return self.myList
  def top(self):
    return self.myList[len(self.myList)-1]
  def __repr__(self):
    return '__Stack Object__:'+''.join(str(self.myList))
  def __len__(self):
    return len(self.myList)
  def empty(self):
    if (len(self.myList))==0:
      return True
    return False

s=Stack()
s.push(5)
s.push(8)
s.push(14)
s.push(7)
s.push(3)
while(not s.empty()):
  print(s.top())
  s.pop()
  
############### Example of class ##############
class Student:
  def __init__(self, name, age, Id):
    self.name=name
    self.age=age
    self.Id=Id
  def __repr__(self):
    return f'The student name is: '+self.name+' its age is: '+str(self.age)+' and its id is: '+str(self.Id)
  def __le__(self,obj):
    return self.age<=obj.age
  def __lt__(self,obj):
    return self.age<obj.age
  def __ne__(self,obj):
    return self.age!=obj.age
  def __eq__(self,obj):
    return self.age==obj.age
  def __gt__(self,obj):
    return self.age>obj.age
  def __ge__(self,obj):
    return self.age>=obj.age

student=Student('Paul',15,1482)
stu=Student('Xavier',19,4565)
print(stu>student)
