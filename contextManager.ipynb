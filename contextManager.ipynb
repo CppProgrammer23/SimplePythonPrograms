####################################################
############# 'with' behind the scene ##############
####################################################
from contextlib import contextmanager
class File:
  def __init__(self,filename,method):
    self.file=open(filename,method)
  def __enter__(self):
    return self.file
  def __exit__(self,type,value,traceback):
    self.file.close()

#as you can see here, I can use 'with' because I've already used __enter__()
#and __exit__()
#it's equal to file=open('myfile.txt','r') but safety is required
with File('myfile.txt','r') as file: #change it with the name of your file
    for line in file:
        print(line)

@contextmanager
def myFunc(filename,method):
  file=open(filename,method)
  yield file
  file.close()
with myFunc('myfile.txt','a') as f:
  f.write('Hello everyone!')
